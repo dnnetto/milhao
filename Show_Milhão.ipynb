{
  "nbformat": 4,
  "nbformat_minor": 0,
  "metadata": {
    "colab": {
      "name": "Show_Milhão.ipynb",
      "provenance": [],
      "collapsed_sections": [],
      "include_colab_link": true
    },
    "kernelspec": {
      "name": "python3",
      "display_name": "Python 3"
    }
  },
  "cells": [
    {
      "cell_type": "markdown",
      "metadata": {
        "id": "view-in-github",
        "colab_type": "text"
      },
      "source": [
        "<a href=\"https://colab.research.google.com/github/dnnetto/milhao/blob/master/Show_Milh%C3%A3o.ipynb\" target=\"_parent\"><img src=\"https://colab.research.google.com/assets/colab-badge.svg\" alt=\"Open In Colab\"/></a>"
      ]
    },
    {
      "cell_type": "code",
      "metadata": {
        "id": "xHOHjxj3t2-I",
        "colab_type": "code",
        "colab": {
          "base_uri": "https://localhost:8080/",
          "height": 108
        },
        "outputId": "b68196cc-53a3-47fe-9b2f-43de6363452e"
      },
      "source": [
        "# Mensagem introdutória e Boas Vindas.\n",
        "print('****************************************************')\n",
        "print('*Olá futuro milionário! Por favor, digite seu nome:*')\n",
        "print('****************************************************')\n",
        "x = input()\n",
        "print ('Seja bem-vindo ao Show do Milhão, ' + x )"
      ],
      "execution_count": null,
      "outputs": [
        {
          "output_type": "stream",
          "text": [
            "****************************************************\n",
            "*Olá futuro milionário! Por favor, digite seu nome:*\n",
            "****************************************************\n",
            "Daruá\n",
            "Seja bem-vindo ao Show do Milhão, Daruá\n"
          ],
          "name": "stdout"
        }
      ]
    },
    {
      "cell_type": "code",
      "metadata": {
        "id": "wVZfgquaza3w",
        "colab_type": "code",
        "colab": {}
      },
      "source": [
        ""
      ],
      "execution_count": null,
      "outputs": []
    },
    {
      "cell_type": "code",
      "metadata": {
        "id": "EXeuUUHgA-cT",
        "colab_type": "code",
        "colab": {
          "base_uri": "https://localhost:8080/",
          "height": 53
        },
        "outputId": "e364bac1-ec00-4d45-a3f4-db2a1f8e68cf"
      },
      "source": [
        "print ('Vamos ao jogo? Por favor, informe 1 para questões de cultura geral e 2 para questões de Python:')\n",
        "opcao_pergunta = int(input()) "
      ],
      "execution_count": null,
      "outputs": [
        {
          "output_type": "stream",
          "text": [
            "Vamos ao jogo? Por favor, informe 1 para questões de cultura geral e 2 para questões de Python:\n",
            "2\n"
          ],
          "name": "stdout"
        }
      ]
    },
    {
      "cell_type": "code",
      "metadata": {
        "id": "ZsstCqqSyLCF",
        "colab_type": "code",
        "colab": {
          "base_uri": "https://localhost:8080/",
          "height": 399
        },
        "outputId": "7fb58ef5-85e8-4e76-f61c-3c4c0a5759ff"
      },
      "source": [
        "# Criação de uma classe que receberá as informações sobre as questões e respostas\n",
        "\n",
        "class Questoes:\n",
        "     def __init__(self, prompt, answer):\n",
        "          self.prompt = prompt\n",
        "          self.answer = answer\n",
        "\n",
        "# Listas recebem as perguntas com as respectivas opções de resposta - Instanciando os objetos\n",
        "\n",
        "questao_entra_geral = [\n",
        "     \"Qual ano do descobrimento do Brasil?\\n(a) 1500\\n(b)1620 \\n(c)1720 \\n\",\n",
        "     \"Qual a estrela mais próxima da Terra?\\n(a) Ursa Maior\\n(b)Alfa Centauro \\n(c)Sol \\n\",\n",
        "     \"Quantos artigos possui a Constituição Americana?\\n(a) 12\\n(b) 04 \\n(c)07 \\n\",\n",
        "     \"Em qual ano nasceu Alexandre Magno?\\n (a) 230 a.C\\n (b) 356 d.C\\n (c) 356 a.C \\n\", \n",
        "]\n",
        "questao_entra_python = [\n",
        "  \"Em linhas gerais, o que é uma função ?\\n (a) uma lista ordenada de dados\\n (b) campo utilizado para inserção de dados\\n (c) agrupar um conjunto de instruções para ser reutilizada \\n\",\n",
        "  \"O nome Python tem origem devido o quê?\\n (a) adotaram a Píton como mascote\\n (b) seriado de televisão\\n (c) homenagem carinhosa à sogra do fundador \\n\",\n",
        "  \"Qual o benefício de usar tuplas?\\n (a) qualquer um pode alterá-la, sem pedir permissão\\n (b) pode ordenar dados aleatórios\\n (c) melhora no desempenho de busca \\n\",\n",
        "  \"Na linguagem de programação Python, o método que permite verificar se uma string começa com alguns caracteres é o?\\n (a)starswith\\n (b) return\\n (c) def \\n\",\n",
        "]\n",
        "\n",
        "# Listas com respostas\n",
        "questao_resposta_geral = [\n",
        "     Questoes (questao_entra_geral[0], \"a\"),\n",
        "     Questoes (questao_entra_geral[1], \"b\"),\n",
        "     Questoes (questao_entra_geral[2], \"c\"),\n",
        "     Questoes (questao_entra_geral[3], \"c\"),\n",
        "]\n",
        "\n",
        "questao_resposta_python = [\n",
        "     Questoes(questao_entra_python[0], \"c\"),\n",
        "     Questoes(questao_entra_python[1], \"b\"),\n",
        "     Questoes(questao_entra_python[2], \"c\"),\n",
        "     Questoes(questao_entra_python[3], \"a\"),\n",
        "]\n",
        "\n",
        "def run_quiz(questao_resposta):\n",
        "     score = 0\n",
        "     for question in questao_resposta:\n",
        "          answer = input(question.prompt)\n",
        "          if answer == question.answer:\n",
        "               score += 1\n",
        "     print(\"Haha... Hihi... você acertou:\", score, \"Ihhihihi e errou\", len(questao_resposta)- score)\n",
        "\n",
        "if opcao_pergunta == 1: \n",
        "  run_quiz(questao_resposta_geral)\n",
        "elif opcao_pergunta == 2:\n",
        "  run_quiz(questao_resposta_python)\n",
        "else:\n",
        "  print ('Opção Inválida, por favor digite 1 ou 2')\n"
      ],
      "execution_count": null,
      "outputs": [
        {
          "output_type": "stream",
          "text": [
            "Em linhas gerais, o que é uma função ?\n",
            " (a) uma lista ordenada de dados\n",
            " (b) campo utilizado para inserção de dados\n",
            " (c) agrupar um conjunto de instruções para ser reutilizada \n",
            "c\n",
            "O nome Python tem origem devido o quê?\n",
            " (a) adotaram a Píton como mascote\n",
            " (b) seriado de televisão\n",
            " (c) homenagem carinhosa à sogra do fundador \n",
            "a\n",
            "Qual o benefício de usar tuplas?\n",
            " (a) qualquer um pode alterá-la, sem pedir permissão\n",
            " (b) pode ordenar dados aleatórios\n",
            " (c) melhora no desempenho de busca \n",
            "c\n",
            "Na linguagem de programação Python, o método que permite verificar se uma string começa com alguns caracteres é o?\n",
            " (a)starswith\n",
            " (b) return\n",
            " (c) def \n",
            "a\n",
            "Haha... Hihi... você acertou: 3 Ihhihihi e errou 1\n"
          ],
          "name": "stdout"
        }
      ]
    }
  ]
}